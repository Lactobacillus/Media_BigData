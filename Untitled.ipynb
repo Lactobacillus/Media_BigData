{
 "cells": [
  {
   "cell_type": "code",
   "execution_count": 1,
   "metadata": {},
   "outputs": [],
   "source": [
    "import pickle\n",
    "import pandas\n",
    "import operator\n",
    "from datetime import datetime\n",
    "import matplotlib.pyplot as plt\n",
    "from konlpy.tag import Komoran\n",
    "\n",
    "komoran = Komoran()"
   ]
  },
  {
   "cell_type": "code",
   "execution_count": 2,
   "metadata": {},
   "outputs": [],
   "source": [
    "with open('./data/integrated_data.pickle', 'rb') as fs:\n",
    "    \n",
    "    data = pickle.load(fs)"
   ]
  },
  {
   "cell_type": "code",
   "execution_count": 3,
   "metadata": {},
   "outputs": [
    {
     "data": {
      "text/html": [
       "<div>\n",
       "<style scoped>\n",
       "    .dataframe tbody tr th:only-of-type {\n",
       "        vertical-align: middle;\n",
       "    }\n",
       "\n",
       "    .dataframe tbody tr th {\n",
       "        vertical-align: top;\n",
       "    }\n",
       "\n",
       "    .dataframe thead th {\n",
       "        text-align: right;\n",
       "    }\n",
       "</style>\n",
       "<table border=\"1\" class=\"dataframe\">\n",
       "  <thead>\n",
       "    <tr style=\"text-align: right;\">\n",
       "      <th></th>\n",
       "      <th>content</th>\n",
       "      <th>time</th>\n",
       "      <th>title</th>\n",
       "    </tr>\n",
       "  </thead>\n",
       "  <tbody>\n",
       "    <tr>\n",
       "      <th>6829</th>\n",
       "      <td>메르세데스-벤츠 코리아는 6월 3일 메르세데스-벤츠 공식 서비스센터 내에 액세서리&amp;...</td>\n",
       "      <td>2015-06-03</td>\n",
       "      <td>[메르세데스-벤츠] 액세서리&amp;컬렉션 샵 오픈</td>\n",
       "    </tr>\n",
       "    <tr>\n",
       "      <th>29362</th>\n",
       "      <td>미쉐린코리아는 고성능 차량을 위한 겨울용 타이어 '미쉐린 파일롯 알핀 PA4(MIC...</td>\n",
       "      <td>2014-11-04</td>\n",
       "      <td>미쉐린, 겨울용 '파일롯 알핀 PA4' 출시…'포르쉐'와 공동개발</td>\n",
       "    </tr>\n",
       "    <tr>\n",
       "      <th>6203</th>\n",
       "      <td>기아자동차는 9월 기아 브랜드데이를 맞아 19일(토) 서울대공원 분수대광장에 마련된...</td>\n",
       "      <td>2015-09-21</td>\n",
       "      <td>[기아] 가을 가족음악회 개최</td>\n",
       "    </tr>\n",
       "    <tr>\n",
       "      <th>6096</th>\n",
       "      <td>롯데렌터카를 보유하고 있는 롯데렌탈은 국내 최대 규모의 자동차 경매장 ‘롯데렌탈 오...</td>\n",
       "      <td>2015-10-13</td>\n",
       "      <td>[롯데렌탈] 2배 빠른 경매 시스템 도입</td>\n",
       "    </tr>\n",
       "    <tr>\n",
       "      <th>1824</th>\n",
       "      <td>한국타이어가 운영하는 글로벌 모바일 웹사이트가 14일 한국인터넷전문가협회(KIPFA...</td>\n",
       "      <td>2017-12-15</td>\n",
       "      <td>[한국타이어] 제14회 웹어워드코리아 대상 수상</td>\n",
       "    </tr>\n",
       "    <tr>\n",
       "      <th>29287</th>\n",
       "      <td>기아차는 이달 중순 출시 예정인 K9 페이스리프트의 가격과 사양을 공개하고 10일부...</td>\n",
       "      <td>2014-11-09</td>\n",
       "      <td>기아차 K9 페이스리프트, 가격은 4990~8620만원…사전계약 실시</td>\n",
       "    </tr>\n",
       "    <tr>\n",
       "      <th>16915</th>\n",
       "      <td>【카미디어】 김성환 기자 = ‘2015 서울모터쇼 기자간담회’가 24일 열렸다. ...</td>\n",
       "      <td>2015-02-24</td>\n",
       "      <td>서울모터쇼에 크라이슬러, 볼보, 타이어회사 안 나와</td>\n",
       "    </tr>\n",
       "    <tr>\n",
       "      <th>23146</th>\n",
       "      <td>작년 치열하게 펼쳐졌던 모닝과 스파크의 경차 전쟁이 올해 2라운드에 돌입한다.업계에...</td>\n",
       "      <td>2017-01-03</td>\n",
       "      <td>모닝vs스파크, 경차 전쟁 '2라운드' 돌입…신형 모닝 가격이 관건</td>\n",
       "    </tr>\n",
       "    <tr>\n",
       "      <th>21033</th>\n",
       "      <td>“SUV는 당연히 디젤 아닙니까”라고 말하던 한 직원 얼굴이 떠오른다. 당연히 디젤...</td>\n",
       "      <td>2017-12-08</td>\n",
       "      <td>[시승기] 기아 스토닉 가솔린 1.4…아반떼 가득한 소형차 시장 바꾸나</td>\n",
       "    </tr>\n",
       "    <tr>\n",
       "      <th>33093</th>\n",
       "      <td>이미 쏘울을 구입했다면 신형 쏘울을 타보지 않는게 좋겠다. 타는 순간 땅을 치고 후...</td>\n",
       "      <td>2013-10-28</td>\n",
       "      <td>[시승기] 신형 쏘울 타보니…이전 쏘울이 '깡통'으로 느껴져</td>\n",
       "    </tr>\n",
       "  </tbody>\n",
       "</table>\n",
       "</div>"
      ],
      "text/plain": [
       "                                                 content       time  \\\n",
       "6829   메르세데스-벤츠 코리아는 6월 3일 메르세데스-벤츠 공식 서비스센터 내에 액세서리&... 2015-06-03   \n",
       "29362  미쉐린코리아는 고성능 차량을 위한 겨울용 타이어 '미쉐린 파일롯 알핀 PA4(MIC... 2014-11-04   \n",
       "6203   기아자동차는 9월 기아 브랜드데이를 맞아 19일(토) 서울대공원 분수대광장에 마련된... 2015-09-21   \n",
       "6096   롯데렌터카를 보유하고 있는 롯데렌탈은 국내 최대 규모의 자동차 경매장 ‘롯데렌탈 오... 2015-10-13   \n",
       "1824   한국타이어가 운영하는 글로벌 모바일 웹사이트가 14일 한국인터넷전문가협회(KIPFA... 2017-12-15   \n",
       "29287  기아차는 이달 중순 출시 예정인 K9 페이스리프트의 가격과 사양을 공개하고 10일부... 2014-11-09   \n",
       "16915   【카미디어】 김성환 기자 = ‘2015 서울모터쇼 기자간담회’가 24일 열렸다. ... 2015-02-24   \n",
       "23146  작년 치열하게 펼쳐졌던 모닝과 스파크의 경차 전쟁이 올해 2라운드에 돌입한다.업계에... 2017-01-03   \n",
       "21033  “SUV는 당연히 디젤 아닙니까”라고 말하던 한 직원 얼굴이 떠오른다. 당연히 디젤... 2017-12-08   \n",
       "33093  이미 쏘울을 구입했다면 신형 쏘울을 타보지 않는게 좋겠다. 타는 순간 땅을 치고 후... 2013-10-28   \n",
       "\n",
       "                                         title  \n",
       "6829                  [메르세데스-벤츠] 액세서리&컬렉션 샵 오픈  \n",
       "29362     미쉐린, 겨울용 '파일롯 알핀 PA4' 출시…'포르쉐'와 공동개발  \n",
       "6203                          [기아] 가을 가족음악회 개최  \n",
       "6096                    [롯데렌탈] 2배 빠른 경매 시스템 도입  \n",
       "1824                [한국타이어] 제14회 웹어워드코리아 대상 수상  \n",
       "29287   기아차 K9 페이스리프트, 가격은 4990~8620만원…사전계약 실시  \n",
       "16915             서울모터쇼에 크라이슬러, 볼보, 타이어회사 안 나와  \n",
       "23146    모닝vs스파크, 경차 전쟁 '2라운드' 돌입…신형 모닝 가격이 관건  \n",
       "21033  [시승기] 기아 스토닉 가솔린 1.4…아반떼 가득한 소형차 시장 바꾸나  \n",
       "33093        [시승기] 신형 쏘울 타보니…이전 쏘울이 '깡통'으로 느껴져  "
      ]
     },
     "execution_count": 3,
     "metadata": {},
     "output_type": "execute_result"
    }
   ],
   "source": [
    "df = pandas.DataFrame(data)\n",
    "df.sample(10)"
   ]
  },
  {
   "cell_type": "code",
   "execution_count": 4,
   "metadata": {},
   "outputs": [
    {
     "data": {
      "text/plain": [
       "<matplotlib.axes._subplots.AxesSubplot at 0x7f6654c512e8>"
      ]
     },
     "execution_count": 4,
     "metadata": {},
     "output_type": "execute_result"
    },
    {
     "data": {
      "image/png": "[encoded data removed]",
      "text/plain": [
       "<Figure size 1080x720 with 1 Axes>"
      ]
     },
     "metadata": {},
     "output_type": "display_data"
    }
   ],
   "source": [
    "df['title'].groupby([df[\"time\"].dt.year.rename('year'), df[\"time\"].dt.month.rename('month')]).count().plot(kind = 'bar', figsize = (15,10))"
   ]
  },
  {
   "cell_type": "code",
   "execution_count": 5,
   "metadata": {},
   "outputs": [
    {
     "data": {
      "text/html": [
       "<div>\n",
       "<style scoped>\n",
       "    .dataframe tbody tr th:only-of-type {\n",
       "        vertical-align: middle;\n",
       "    }\n",
       "\n",
       "    .dataframe tbody tr th {\n",
       "        vertical-align: top;\n",
       "    }\n",
       "\n",
       "    .dataframe thead th {\n",
       "        text-align: right;\n",
       "    }\n",
       "</style>\n",
       "<table border=\"1\" class=\"dataframe\">\n",
       "  <thead>\n",
       "    <tr style=\"text-align: right;\">\n",
       "      <th></th>\n",
       "      <th>content</th>\n",
       "      <th>time</th>\n",
       "      <th>title</th>\n",
       "    </tr>\n",
       "  </thead>\n",
       "  <tbody>\n",
       "    <tr>\n",
       "      <th>23499</th>\n",
       "      <td>며칠 전 국제청정운송위원회(ICCT)는 58페이지짜리 보고서를 내놓으며 유럽에서 갈...</td>\n",
       "      <td>2016-11-21</td>\n",
       "      <td>[이완 칼럼] 해도 너무한 뻥연비…실제보다 42% 뻥튀기</td>\n",
       "    </tr>\n",
       "    <tr>\n",
       "      <th>24088</th>\n",
       "      <td>국토부는 22일, BMW코리아와 폭스바겐코리아 등 2개 업체에서 수입·판매한 차량 ...</td>\n",
       "      <td>2016-09-22</td>\n",
       "      <td>BMW·폭스바겐 '8878대' 리콜…시동꺼짐, 화재 가능성까지</td>\n",
       "    </tr>\n",
       "    <tr>\n",
       "      <th>24949</th>\n",
       "      <td>BMW 코리아가 신형 7시리즈 라인업에 ‘740d xDrive’와 롱휠베이스 모델인...</td>\n",
       "      <td>2016-05-19</td>\n",
       "      <td>BMW코리아, 740d·740Ld x드라이브 출시…1억4290만원 부터</td>\n",
       "    </tr>\n",
       "    <tr>\n",
       "      <th>4196</th>\n",
       "      <td>풀 모델체인지 : 완전히 새롭게 개발된 신차  제조사가 새롭게 개발한 신차다. 현대...</td>\n",
       "      <td>2016-09-29</td>\n",
       "      <td>자동차의 탄생부터 단종까지</td>\n",
       "    </tr>\n",
       "    <tr>\n",
       "      <th>27614</th>\n",
       "      <td>지난 21일(현지시간), 미국 컨설팅 업체 ‘리퓨테이션 인스티튜트(Reputatio...</td>\n",
       "      <td>2015-04-28</td>\n",
       "      <td>세상에서 가장 평판 좋은 기업, 'BMW' 1위 선정…다임러 3위</td>\n",
       "    </tr>\n",
       "    <tr>\n",
       "      <th>31988</th>\n",
       "      <td>골프의 세계적인 인기가 심상치 않다. 폭스바겐 골프는 지난해 유럽에서 총 47만22...</td>\n",
       "      <td>2014-02-19</td>\n",
       "      <td>2013 유럽서 가장 많이 팔린 차 TOP10, 골프의 독주</td>\n",
       "    </tr>\n",
       "    <tr>\n",
       "      <th>17209</th>\n",
       "      <td>\\n▲ 아우디 프롤로그 콘셉트【카미디어】 고정식 기자 = 아우디가 자동차 실내 곳곳...</td>\n",
       "      <td>2014-11-26</td>\n",
       "      <td>독일차의 늦은 행보 '버튼 말고 터치스크린!'</td>\n",
       "    </tr>\n",
       "    <tr>\n",
       "      <th>22661</th>\n",
       "      <td>차는 디자인에 살고 디자인에 죽는지도 모른다. 멋진 차는 유구한 세월을 뚫고 박물관...</td>\n",
       "      <td>2017-03-23</td>\n",
       "      <td>역대 최악의 자동차 디자인 TOP10…\"못생겨서 죄송합니다\"</td>\n",
       "    </tr>\n",
       "    <tr>\n",
       "      <th>17892</th>\n",
       "      <td>\\n▲ 볼보 폴스타 V60(왼쪽)과 폴스타 S60(오른쪽)【카미디어】 고정식 기자 ...</td>\n",
       "      <td>2014-05-14</td>\n",
       "      <td>볼보 폴스타, 2리터 디젤로 얼마나 뽑아낼까?</td>\n",
       "    </tr>\n",
       "    <tr>\n",
       "      <th>32160</th>\n",
       "      <td>편의성과 실용성, 연료효율성 등 모든 부분에서 큰 발전을 이룬 신형 미니의 판매가격...</td>\n",
       "      <td>2014-02-03</td>\n",
       "      <td>신형 미니 쿠퍼, 미국에서 2천만원 초반부터 판매</td>\n",
       "    </tr>\n",
       "  </tbody>\n",
       "</table>\n",
       "</div>"
      ],
      "text/plain": [
       "                                                 content       time  \\\n",
       "23499  며칠 전 국제청정운송위원회(ICCT)는 58페이지짜리 보고서를 내놓으며 유럽에서 갈... 2016-11-21   \n",
       "24088  국토부는 22일, BMW코리아와 폭스바겐코리아 등 2개 업체에서 수입·판매한 차량 ... 2016-09-22   \n",
       "24949  BMW 코리아가 신형 7시리즈 라인업에 ‘740d xDrive’와 롱휠베이스 모델인... 2016-05-19   \n",
       "4196   풀 모델체인지 : 완전히 새롭게 개발된 신차  제조사가 새롭게 개발한 신차다. 현대... 2016-09-29   \n",
       "27614  지난 21일(현지시간), 미국 컨설팅 업체 ‘리퓨테이션 인스티튜트(Reputatio... 2015-04-28   \n",
       "31988  골프의 세계적인 인기가 심상치 않다. 폭스바겐 골프는 지난해 유럽에서 총 47만22... 2014-02-19   \n",
       "17209  \\n▲ 아우디 프롤로그 콘셉트【카미디어】 고정식 기자 = 아우디가 자동차 실내 곳곳... 2014-11-26   \n",
       "22661  차는 디자인에 살고 디자인에 죽는지도 모른다. 멋진 차는 유구한 세월을 뚫고 박물관... 2017-03-23   \n",
       "17892  \\n▲ 볼보 폴스타 V60(왼쪽)과 폴스타 S60(오른쪽)【카미디어】 고정식 기자 ... 2014-05-14   \n",
       "32160  편의성과 실용성, 연료효율성 등 모든 부분에서 큰 발전을 이룬 신형 미니의 판매가격... 2014-02-03   \n",
       "\n",
       "                                         title  \n",
       "23499          [이완 칼럼] 해도 너무한 뻥연비…실제보다 42% 뻥튀기  \n",
       "24088       BMW·폭스바겐 '8878대' 리콜…시동꺼짐, 화재 가능성까지  \n",
       "24949  BMW코리아, 740d·740Ld x드라이브 출시…1억4290만원 부터  \n",
       "4196                            자동차의 탄생부터 단종까지  \n",
       "27614     세상에서 가장 평판 좋은 기업, 'BMW' 1위 선정…다임러 3위  \n",
       "31988        2013 유럽서 가장 많이 팔린 차 TOP10, 골프의 독주  \n",
       "17209                독일차의 늦은 행보 '버튼 말고 터치스크린!'  \n",
       "22661        역대 최악의 자동차 디자인 TOP10…\"못생겨서 죄송합니다\"  \n",
       "17892                볼보 폴스타, 2리터 디젤로 얼마나 뽑아낼까?  \n",
       "32160              신형 미니 쿠퍼, 미국에서 2천만원 초반부터 판매  "
      ]
     },
     "execution_count": 5,
     "metadata": {},
     "output_type": "execute_result"
    }
   ],
   "source": [
    "df_bmw = df.loc[df['content'].str.contains('BMW|bmw')]\n",
    "df_bmw.sample(10)"
   ]
  },
  {
   "cell_type": "code",
   "execution_count": 6,
   "metadata": {},
   "outputs": [
    {
     "data": {
      "text/plain": [
       "<matplotlib.axes._subplots.AxesSubplot at 0x7f6617e39d30>"
      ]
     },
     "execution_count": 6,
     "metadata": {},
     "output_type": "execute_result"
    },
    {
     "data": {
      "image/png": "[encoded data removed]",
      "text/plain": [
       "<Figure size 1080x720 with 1 Axes>"
      ]
     },
     "metadata": {},
     "output_type": "display_data"
    }
   ],
   "source": [
    "df_bmw['title'].groupby([df_bmw[\"time\"].dt.year.rename('year'), df_bmw[\"time\"].dt.month.rename('month')]).count().plot(kind = 'bar', figsize = (15,10))"
   ]
  },
  {
   "cell_type": "code",
   "execution_count": 7,
   "metadata": {},
   "outputs": [
    {
     "data": {
      "text/html": [
       "<div>\n",
       "<style scoped>\n",
       "    .dataframe tbody tr th:only-of-type {\n",
       "        vertical-align: middle;\n",
       "    }\n",
       "\n",
       "    .dataframe tbody tr th {\n",
       "        vertical-align: top;\n",
       "    }\n",
       "\n",
       "    .dataframe thead th {\n",
       "        text-align: right;\n",
       "    }\n",
       "</style>\n",
       "<table border=\"1\" class=\"dataframe\">\n",
       "  <thead>\n",
       "    <tr style=\"text-align: right;\">\n",
       "      <th></th>\n",
       "      <th>content</th>\n",
       "      <th>time</th>\n",
       "      <th>title</th>\n",
       "    </tr>\n",
       "  </thead>\n",
       "  <tbody>\n",
       "    <tr>\n",
       "      <th>3275</th>\n",
       "      <td>아우디폭스바겐코리아(주)에서 수입·판매한 람보르기니 Aventador 등 2개 차종...</td>\n",
       "      <td>2017-03-24</td>\n",
       "      <td>국토교통부, 람보르기니 아벤타도르 리콜</td>\n",
       "    </tr>\n",
       "    <tr>\n",
       "      <th>24223</th>\n",
       "      <td>국토부가 안전기준을 위반한 아우디폭스바겐코리아에 과징금을 부과하고 4개 수입 브랜드...</td>\n",
       "      <td>2016-09-06</td>\n",
       "      <td>국토부, 16개 차종 1만여대 리콜…'안전기준 위반' 아우디는 과징금</td>\n",
       "    </tr>\n",
       "    <tr>\n",
       "      <th>30897</th>\n",
       "      <td>이탈리아 랠리는 올 시즌 현대차 WRC팀에게 가장 아찔한 순간이었다. 경기 초반 선...</td>\n",
       "      <td>2014-06-10</td>\n",
       "      <td>[2014 WRC] 이탈리아 랠리…현대차 멈추고, 뒤집히고</td>\n",
       "    </tr>\n",
       "    <tr>\n",
       "      <th>2646</th>\n",
       "      <td>현대자동차는 국민안전처, 안전생활실천시민연합과 공동으로 어린이, 학부모, 교사가 함...</td>\n",
       "      <td>2017-07-17</td>\n",
       "      <td>[현대] ‘제9회 대한민국 어린이 안전 퀴즈대회’ 개최</td>\n",
       "    </tr>\n",
       "    <tr>\n",
       "      <th>9956</th>\n",
       "      <td>국토교통부는 2013년도 자동차 자기인증적합조사 과정에서 토요타 캠리 자동차가 ‘차...</td>\n",
       "      <td>2014-01-30</td>\n",
       "      <td>국토교통부, 토요타 캠리 화재위험으로 리콜 예정</td>\n",
       "    </tr>\n",
       "    <tr>\n",
       "      <th>21623</th>\n",
       "      <td>기아차 북미법인이 세타2 엔진 커넥팅 로드 베어링 결함으로 집단소송에 휘말렸다.미국...</td>\n",
       "      <td>2017-08-21</td>\n",
       "      <td>기아차, 美서 집단소송…K5·스포티지·쏘렌토 엔진 결함</td>\n",
       "    </tr>\n",
       "    <tr>\n",
       "      <th>26315</th>\n",
       "      <td>주행 중이던 BMW 7시리즈에 불이 나 차량이 전소되는 사고가 발생했다. 8일 낮 ...</td>\n",
       "      <td>2015-11-09</td>\n",
       "      <td>BMW 7시리즈, 달리다 화재로 전소…이달만 벌써 3번째</td>\n",
       "    </tr>\n",
       "    <tr>\n",
       "      <th>30678</th>\n",
       "      <td>현대차 WRC팀이 폴란드 랠리에서 포디움에 올랐다. 또 보란듯 세대의 경주차가 모두...</td>\n",
       "      <td>2014-06-30</td>\n",
       "      <td>[2014 WRC] 폴란드 랠리, 현대차 3위 “노력 결실봤다”</td>\n",
       "    </tr>\n",
       "    <tr>\n",
       "      <th>4893</th>\n",
       "      <td>기아자동차가 20일(금)부터 기아차 CSR 홈페이지(http://csr.kia.co...</td>\n",
       "      <td>2016-05-20</td>\n",
       "      <td>[기아] 대학생 사회공헌활동 참가자 모집</td>\n",
       "    </tr>\n",
       "    <tr>\n",
       "      <th>13912</th>\n",
       "      <td>\\n【카미디어】 박혜성 기자 = 페라리 488 GTB 2대에서 계기반 결함이 발견됐...</td>\n",
       "      <td>2018-03-29</td>\n",
       "      <td>'계기반 결함' 페라리 2대 등 4만7,936대 리콜</td>\n",
       "    </tr>\n",
       "  </tbody>\n",
       "</table>\n",
       "</div>"
      ],
      "text/plain": [
       "                                                 content       time  \\\n",
       "3275   아우디폭스바겐코리아(주)에서 수입·판매한 람보르기니 Aventador 등 2개 차종... 2017-03-24   \n",
       "24223  국토부가 안전기준을 위반한 아우디폭스바겐코리아에 과징금을 부과하고 4개 수입 브랜드... 2016-09-06   \n",
       "30897  이탈리아 랠리는 올 시즌 현대차 WRC팀에게 가장 아찔한 순간이었다. 경기 초반 선... 2014-06-10   \n",
       "2646   현대자동차는 국민안전처, 안전생활실천시민연합과 공동으로 어린이, 학부모, 교사가 함... 2017-07-17   \n",
       "9956   국토교통부는 2013년도 자동차 자기인증적합조사 과정에서 토요타 캠리 자동차가 ‘차... 2014-01-30   \n",
       "21623  기아차 북미법인이 세타2 엔진 커넥팅 로드 베어링 결함으로 집단소송에 휘말렸다.미국... 2017-08-21   \n",
       "26315  주행 중이던 BMW 7시리즈에 불이 나 차량이 전소되는 사고가 발생했다. 8일 낮 ... 2015-11-09   \n",
       "30678  현대차 WRC팀이 폴란드 랠리에서 포디움에 올랐다. 또 보란듯 세대의 경주차가 모두... 2014-06-30   \n",
       "4893   기아자동차가 20일(금)부터 기아차 CSR 홈페이지(http://csr.kia.co... 2016-05-20   \n",
       "13912  \\n【카미디어】 박혜성 기자 = 페라리 488 GTB 2대에서 계기반 결함이 발견됐... 2018-03-29   \n",
       "\n",
       "                                        title  \n",
       "3275                    국토교통부, 람보르기니 아벤타도르 리콜  \n",
       "24223  국토부, 16개 차종 1만여대 리콜…'안전기준 위반' 아우디는 과징금  \n",
       "30897        [2014 WRC] 이탈리아 랠리…현대차 멈추고, 뒤집히고  \n",
       "2646           [현대] ‘제9회 대한민국 어린이 안전 퀴즈대회’ 개최  \n",
       "9956               국토교통부, 토요타 캠리 화재위험으로 리콜 예정  \n",
       "21623          기아차, 美서 집단소송…K5·스포티지·쏘렌토 엔진 결함  \n",
       "26315         BMW 7시리즈, 달리다 화재로 전소…이달만 벌써 3번째  \n",
       "30678     [2014 WRC] 폴란드 랠리, 현대차 3위 “노력 결실봤다”  \n",
       "4893                   [기아] 대학생 사회공헌활동 참가자 모집  \n",
       "13912           '계기반 결함' 페라리 2대 등 4만7,936대 리콜  "
      ]
     },
     "execution_count": 7,
     "metadata": {},
     "output_type": "execute_result"
    }
   ],
   "source": [
    "df_fire = df.loc[df['content'].str.contains('화재')]\n",
    "df_fire.sample(10)"
   ]
  },
  {
   "cell_type": "code",
   "execution_count": 8,
   "metadata": {},
   "outputs": [
    {
     "data": {
      "text/plain": [
       "<matplotlib.axes._subplots.AxesSubplot at 0x7f6654113e48>"
      ]
     },
     "execution_count": 8,
     "metadata": {},
     "output_type": "execute_result"
    },
    {
     "data": {
      "image/png": "[encoded data removed]",
      "text/plain": [
       "<Figure size 1080x720 with 1 Axes>"
      ]
     },
     "metadata": {},
     "output_type": "display_data"
    }
   ],
   "source": [
    "df_fire['title'].groupby([df_fire[\"time\"].dt.year.rename('year'), df_fire[\"time\"].dt.month.rename('month')]).count().plot(kind = 'bar', figsize = (15,10))"
   ]
  },
  {
   "cell_type": "code",
   "execution_count": 9,
   "metadata": {},
   "outputs": [
    {
     "data": {
      "text/html": [
       "<div>\n",
       "<style scoped>\n",
       "    .dataframe tbody tr th:only-of-type {\n",
       "        vertical-align: middle;\n",
       "    }\n",
       "\n",
       "    .dataframe tbody tr th {\n",
       "        vertical-align: top;\n",
       "    }\n",
       "\n",
       "    .dataframe thead th {\n",
       "        text-align: right;\n",
       "    }\n",
       "</style>\n",
       "<table border=\"1\" class=\"dataframe\">\n",
       "  <thead>\n",
       "    <tr style=\"text-align: right;\">\n",
       "      <th></th>\n",
       "      <th>content</th>\n",
       "      <th>time</th>\n",
       "      <th>title</th>\n",
       "    </tr>\n",
       "  </thead>\n",
       "  <tbody>\n",
       "    <tr>\n",
       "      <th>10301</th>\n",
       "      <td>링컨이 변속기 센서 및 프로그램 오류로 인해 북미시장에서 리콜을 실시한다고 밝혔다....</td>\n",
       "      <td>2013-12-02</td>\n",
       "      <td>링컨 MKZ 하이브리드, 변속기 오류로 북미시장서 리콜</td>\n",
       "    </tr>\n",
       "    <tr>\n",
       "      <th>32939</th>\n",
       "      <td>현대차 제네시스가 미국에서 브레이크 결함으로 추가 리콜된다.현대차 미국 법인은 11...</td>\n",
       "      <td>2013-11-12</td>\n",
       "      <td>현대차 제네시스, 美서 브레이크 결함 추가 리콜…국내도 9000여대</td>\n",
       "    </tr>\n",
       "    <tr>\n",
       "      <th>10960</th>\n",
       "      <td>국토교통부는 포드세일즈서비스코리아에서 수입·판매한 익스플로러, 토러스, MKS, 퓨...</td>\n",
       "      <td>2013-08-22</td>\n",
       "      <td>포드 및 링컨 5개 모델 리콜</td>\n",
       "    </tr>\n",
       "    <tr>\n",
       "      <th>3019</th>\n",
       "      <td>국토교통부의 자동차 리콜 결정을 거부해 청문회를 여는 강수까지 둔 현대 기아차가 결...</td>\n",
       "      <td>2017-05-10</td>\n",
       "      <td>리콜 거부한 현대 기아, 결국 자발적 리콜 할 듯</td>\n",
       "    </tr>\n",
       "    <tr>\n",
       "      <th>12689</th>\n",
       "      <td>혼다가 시동 키 결함으로 87만 1천대를 리콜한다고 밝혔다. 이중 92%에 이르는 ...</td>\n",
       "      <td>2012-12-14</td>\n",
       "      <td>혼다, 시동 키 결함으로 美서 87만 1천대 리콜</td>\n",
       "    </tr>\n",
       "    <tr>\n",
       "      <th>7504</th>\n",
       "      <td>자동차결함신고센터가 서스펜션 문제로 기아자동차 모델에 대한 리콜을 실시한다고 밝혔다...</td>\n",
       "      <td>2015-02-18</td>\n",
       "      <td>기아, 서스펜션 문제로 봉고3 47347대 리콜</td>\n",
       "    </tr>\n",
       "    <tr>\n",
       "      <th>31046</th>\n",
       "      <td>국토교통부는 포드세일즈서비스코리아에서 판매한 '이스케이프'에서 제작결함이 발견되어 ...</td>\n",
       "      <td>2014-05-27</td>\n",
       "      <td>포드, 이스케이프 2216대 리콜 실시...냉각기, 에어백, 도어핸들 결함 발견</td>\n",
       "    </tr>\n",
       "    <tr>\n",
       "      <th>29088</th>\n",
       "      <td>교통안전공단 자동차결함신고센터는 재규어 F타입, XF, XJ 등 차종의 엔진부에서 ...</td>\n",
       "      <td>2014-11-27</td>\n",
       "      <td>재규어, F타입·XF·XJ 엔진부 결함으로 '176대' 리콜…\"핸들 무거워져\"</td>\n",
       "    </tr>\n",
       "    <tr>\n",
       "      <th>12927</th>\n",
       "      <td>크라이슬러가 에어백 결함으로 2종의 SUV 차량에 대한 리콜을 실시한다고 밝혔다. ...</td>\n",
       "      <td>2012-11-12</td>\n",
       "      <td>크라이슬러, 에어백 결함으로 미주지역 리콜</td>\n",
       "    </tr>\n",
       "    <tr>\n",
       "      <th>12668</th>\n",
       "      <td>지난 17일, 국내시장에서 선루프 유리 깨짐 문제와 주차 브레이크 문제로 리콜을 시...</td>\n",
       "      <td>2012-12-20</td>\n",
       "      <td>현대, 선루프와 주차브레이크 문제로 美서 리콜</td>\n",
       "    </tr>\n",
       "  </tbody>\n",
       "</table>\n",
       "</div>"
      ],
      "text/plain": [
       "                                                 content       time  \\\n",
       "10301  링컨이 변속기 센서 및 프로그램 오류로 인해 북미시장에서 리콜을 실시한다고 밝혔다.... 2013-12-02   \n",
       "32939  현대차 제네시스가 미국에서 브레이크 결함으로 추가 리콜된다.현대차 미국 법인은 11... 2013-11-12   \n",
       "10960  국토교통부는 포드세일즈서비스코리아에서 수입·판매한 익스플로러, 토러스, MKS, 퓨... 2013-08-22   \n",
       "3019   국토교통부의 자동차 리콜 결정을 거부해 청문회를 여는 강수까지 둔 현대 기아차가 결... 2017-05-10   \n",
       "12689  혼다가 시동 키 결함으로 87만 1천대를 리콜한다고 밝혔다. 이중 92%에 이르는 ... 2012-12-14   \n",
       "7504   자동차결함신고센터가 서스펜션 문제로 기아자동차 모델에 대한 리콜을 실시한다고 밝혔다... 2015-02-18   \n",
       "31046  국토교통부는 포드세일즈서비스코리아에서 판매한 '이스케이프'에서 제작결함이 발견되어 ... 2014-05-27   \n",
       "29088  교통안전공단 자동차결함신고센터는 재규어 F타입, XF, XJ 등 차종의 엔진부에서 ... 2014-11-27   \n",
       "12927  크라이슬러가 에어백 결함으로 2종의 SUV 차량에 대한 리콜을 실시한다고 밝혔다. ... 2012-11-12   \n",
       "12668  지난 17일, 국내시장에서 선루프 유리 깨짐 문제와 주차 브레이크 문제로 리콜을 시... 2012-12-20   \n",
       "\n",
       "                                              title  \n",
       "10301                링컨 MKZ 하이브리드, 변속기 오류로 북미시장서 리콜  \n",
       "32939         현대차 제네시스, 美서 브레이크 결함 추가 리콜…국내도 9000여대  \n",
       "10960                              포드 및 링컨 5개 모델 리콜  \n",
       "3019                    리콜 거부한 현대 기아, 결국 자발적 리콜 할 듯  \n",
       "12689                   혼다, 시동 키 결함으로 美서 87만 1천대 리콜  \n",
       "7504                     기아, 서스펜션 문제로 봉고3 47347대 리콜  \n",
       "31046  포드, 이스케이프 2216대 리콜 실시...냉각기, 에어백, 도어핸들 결함 발견  \n",
       "29088   재규어, F타입·XF·XJ 엔진부 결함으로 '176대' 리콜…\"핸들 무거워져\"  \n",
       "12927                       크라이슬러, 에어백 결함으로 미주지역 리콜  \n",
       "12668                     현대, 선루프와 주차브레이크 문제로 美서 리콜  "
      ]
     },
     "execution_count": 9,
     "metadata": {},
     "output_type": "execute_result"
    }
   ],
   "source": [
    "df_recall = df.loc[df['content'].str.contains('리콜')]\n",
    "df_recall.sample(10)"
   ]
  },
  {
   "cell_type": "code",
   "execution_count": 10,
   "metadata": {},
   "outputs": [
    {
     "data": {
      "text/plain": [
       "<matplotlib.axes._subplots.AxesSubplot at 0x7f6613e5c470>"
      ]
     },
     "execution_count": 10,
     "metadata": {},
     "output_type": "execute_result"
    },
    {
     "data": {
      "image/png": "[encoded data removed]",
      "text/plain": [
       "<Figure size 1080x720 with 1 Axes>"
      ]
     },
     "metadata": {},
     "output_type": "display_data"
    }
   ],
   "source": [
    "df_recall['title'].groupby([df_recall[\"time\"].dt.year.rename('year'), df_recall[\"time\"].dt.month.rename('month')]).count().plot(kind = 'bar', figsize = (15,10))"
   ]
  },
  {
   "cell_type": "code",
   "execution_count": 11,
   "metadata": {},
   "outputs": [],
   "source": [
    "title_corpus = list()\n",
    "content_corpus = list()\n",
    "corpus = list()\n",
    "\n",
    "for d in data:\n",
    "    \n",
    "    title_corpus.append(d['title'])\n",
    "    content_corpus.append(d['content'])\n",
    "    corpus.append(d['title'])\n",
    "    corpus.append(d['content'])\n",
    "    \n",
    "title_corpus = ' '.join(title_corpus).lower()\n",
    "content_corpus = ' '.join(content_corpus).lower()\n",
    "corpus = ' '.join(corpus).lower()"
   ]
  },
  {
   "cell_type": "code",
   "execution_count": 12,
   "metadata": {
    "scrolled": false
   },
   "outputs": [
    {
     "name": "stdout",
     "output_type": "stream",
     "text": [
      "('현대', 4053)\n",
      "('출시', 3628)\n",
      "('공개', 2971)\n",
      "('기아', 2587)\n",
      "('신형', 2520)\n",
      "('대차', 2068)\n",
      "('현대차', 2063)\n",
      "('실시', 2005)\n",
      "('모터', 1952)\n",
      "('한국', 1904)\n",
      "('판매', 1797)\n",
      "('이어', 1791)\n",
      "('타이', 1702)\n",
      "('타이어', 1665)\n",
      "('벤츠', 1628)\n",
      "('모터쇼', 1556)\n",
      "('만원', 1445)\n",
      "('이스', 1298)\n",
      "('개최', 1296)\n",
      "('바겐', 1280)\n",
      "('폭스', 1269)\n",
      "('폭스바겐', 1267)\n",
      "('프로', 1237)\n",
      "('자동', 1201)\n",
      "('쌍용', 1181)\n",
      "('아우', 1177)\n",
      "('서비스', 1143)\n",
      "('가격', 1132)\n",
      "('동차', 1124)\n",
      "('아우디', 1123)\n"
     ]
    }
   ],
   "source": [
    "title_words = set()\n",
    "title_words_count = dict()\n",
    "\n",
    "for d in data:\n",
    "    \n",
    "    temp = set(komoran.nouns(phrase = d['title']))\n",
    "    title_words = title_words.union(temp)\n",
    "    \n",
    "title_words = {w for w in title_words if len(w) > 1 and not w.isdigit()}\n",
    "    \n",
    "for w in set(title_words):\n",
    "    \n",
    "    title_words_count[w] = title_corpus.count(w)\n",
    "    \n",
    "title_words_count = sorted(title_words_count.items(), key = lambda kv : kv[1], reverse = True)\n",
    "\n",
    "for d in title_words_count[:30]:\n",
    "    \n",
    "    print(d)"
   ]
  }
 ],
 "metadata": {
  "kernelspec": {
   "display_name": "Python 3",
   "language": "python",
   "name": "python3"
  },
  "language_info": {
   "codemirror_mode": {
    "name": "ipython",
    "version": 3
   },
   "file_extension": ".py",
   "mimetype": "text/x-python",
   "name": "python",
   "nbconvert_exporter": "python",
   "pygments_lexer": "ipython3",
   "version": "3.6.5"
  }
 },
 "nbformat": 4,
 "nbformat_minor": 2
}
